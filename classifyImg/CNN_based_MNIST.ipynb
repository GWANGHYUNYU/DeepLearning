{
 "cells": [
  {
   "cell_type": "code",
   "execution_count": 8,
   "metadata": {},
   "outputs": [],
   "source": [
    "import tensorflow as tf\n",
    "import tensorflow_datasets as tfds\n",
    "\n",
    "from tensorflow.keras.utils import to_categorical\n",
    "from tensorflow.keras import regularizers\n",
    "\n",
    "from tensorflow import keras\n",
    "from keras.layers import SimpleRNN, Dense, Input, Flatten, Conv2D, MaxPooling2D, Dropout, BatchNormalization, GlobalAvgPool2D\n",
    "from keras.models import Sequential, Model\n",
    "\n",
    "import pandas as pd\n",
    "import numpy as np\n",
    "import matplotlib.pyplot as plt\n",
    "import seaborn as sns\n",
    "import warnings \n",
    "from IPython.display import Image\n",
    "\n",
    "warnings.filterwarnings('ignore')\n",
    "%matplotlib inline\n",
    "\n",
    "SEED = 34"
   ]
  },
  {
   "cell_type": "code",
   "execution_count": 16,
   "metadata": {},
   "outputs": [],
   "source": [
    "(train_images, train_labels), (test_images, test_labels) = keras.datasets.mnist.load_data()"
   ]
  },
  {
   "cell_type": "code",
   "execution_count": 18,
   "metadata": {},
   "outputs": [],
   "source": [
    "train_images = train_images[..., np.newaxis]\n",
    "test_images = test_images[..., np.newaxis]"
   ]
  },
  {
   "cell_type": "code",
   "execution_count": 19,
   "metadata": {},
   "outputs": [
    {
     "name": "stdout",
     "output_type": "stream",
     "text": [
      "train_images: (60000, 28, 28, 1)\n",
      "train_labels: (60000,)\n",
      "test__images: (10000, 28, 28, 1)\n",
      "test_labels: (10000,)\n"
     ]
    }
   ],
   "source": [
    "print(f\"train_images: {train_images.shape}\")\n",
    "print(f\"train_labels: {train_labels.shape}\")\n",
    "\n",
    "print(f\"test__images: {test_images.shape}\")\n",
    "print(f\"test_labels: {test_labels.shape}\")"
   ]
  },
  {
   "cell_type": "code",
   "execution_count": 5,
   "metadata": {},
   "outputs": [],
   "source": [
    "def norm(data):\n",
    "  max_value = data.max()\n",
    "  min_value = data.min()\n",
    "\n",
    "  return (data - min_value) / (max_value - min_value)"
   ]
  },
  {
   "cell_type": "code",
   "execution_count": 6,
   "metadata": {},
   "outputs": [],
   "source": [
    "train_images = norm(train_images)\n",
    "test_images = norm(test_images)"
   ]
  },
  {
   "cell_type": "code",
   "execution_count": 7,
   "metadata": {},
   "outputs": [
    {
     "data": {
      "text/plain": [
       "(0, 9)"
      ]
     },
     "execution_count": 7,
     "metadata": {},
     "output_type": "execute_result"
    }
   ],
   "source": [
    "train_labels.min(), train_labels.max()"
   ]
  },
  {
   "cell_type": "code",
   "execution_count": null,
   "metadata": {},
   "outputs": [],
   "source": []
  },
  {
   "cell_type": "code",
   "execution_count": 20,
   "metadata": {},
   "outputs": [],
   "source": [
    "def get_CNN_model(input_shape, rate):\n",
    "\n",
    "    model = Sequential([\n",
    "            Conv2D(filters=64, kernel_size=(3, 3), strides=1, padding='same',\n",
    "                activation='relu', input_shape=(28, 28, 1), name='conv_1'),\n",
    "            MaxPooling2D(pool_size=(2, 2), name='pool_1'),\n",
    "            Conv2D(filters=32, kernel_size=(3, 3), strides=1, padding='same',\n",
    "                activation='relu', input_shape=input_shape, name='conv_2'),\n",
    "            MaxPooling2D(pool_size=(2, 2), name='pool_2'),\n",
    "            Conv2D(filters=16, kernel_size=(3, 3), strides=1, padding='same',\n",
    "                activation='relu', name='conv_3'),\n",
    "            BatchNormalization(),           \n",
    "            Flatten(name='flatten'),\n",
    "            Dense(units=32, activation='relu', name='dense_1'),\n",
    "            Dropout(rate),\n",
    "            Dense(units=10, activation='softmax', name='dense_2')\n",
    "    ])\n",
    "    \n",
    "    return model"
   ]
  },
  {
   "cell_type": "code",
   "execution_count": 21,
   "metadata": {},
   "outputs": [
    {
     "name": "stdout",
     "output_type": "stream",
     "text": [
      "Model: \"sequential_1\"\n",
      "_________________________________________________________________\n",
      " Layer (type)                Output Shape              Param #   \n",
      "=================================================================\n",
      " conv_1 (Conv2D)             (None, 28, 28, 64)        640       \n",
      "                                                                 \n",
      " pool_1 (MaxPooling2D)       (None, 14, 14, 64)        0         \n",
      "                                                                 \n",
      " conv_2 (Conv2D)             (None, 14, 14, 32)        18464     \n",
      "                                                                 \n",
      " pool_2 (MaxPooling2D)       (None, 7, 7, 32)          0         \n",
      "                                                                 \n",
      " conv_3 (Conv2D)             (None, 7, 7, 16)          4624      \n",
      "                                                                 \n",
      " batch_normalization_1 (Batc  (None, 7, 7, 16)         64        \n",
      " hNormalization)                                                 \n",
      "                                                                 \n",
      " flatten (Flatten)           (None, 784)               0         \n",
      "                                                                 \n",
      " dense_1 (Dense)             (None, 32)                25120     \n",
      "                                                                 \n",
      " dropout_1 (Dropout)         (None, 32)                0         \n",
      "                                                                 \n",
      " dense_2 (Dense)             (None, 10)                330       \n",
      "                                                                 \n",
      "=================================================================\n",
      "Total params: 49,242\n",
      "Trainable params: 49,210\n",
      "Non-trainable params: 32\n",
      "_________________________________________________________________\n"
     ]
    }
   ],
   "source": [
    "Sequential_model = get_CNN_model(train_images[0].shape, 0.5)\n",
    "Sequential_model.summary()"
   ]
  },
  {
   "cell_type": "code",
   "execution_count": 22,
   "metadata": {},
   "outputs": [],
   "source": [
    "Sequential_model.compile(loss='sparse_categorical_crossentropy', optimizer='adam', metrics = [\"accuracy\"])"
   ]
  },
  {
   "cell_type": "code",
   "execution_count": 23,
   "metadata": {},
   "outputs": [
    {
     "name": "stdout",
     "output_type": "stream",
     "text": [
      "Epoch 1/5\n",
      "1875/1875 - 21s - loss: 0.3353 - accuracy: 0.8915 - val_loss: 0.0550 - val_accuracy: 0.9821 - 21s/epoch - 11ms/step\n",
      "Epoch 2/5\n",
      "1875/1875 - 9s - loss: 0.1521 - accuracy: 0.9530 - val_loss: 0.0356 - val_accuracy: 0.9891 - 9s/epoch - 5ms/step\n",
      "Epoch 3/5\n",
      "1875/1875 - 9s - loss: 0.1221 - accuracy: 0.9611 - val_loss: 0.0532 - val_accuracy: 0.9843 - 9s/epoch - 5ms/step\n",
      "Epoch 4/5\n"
     ]
    }
   ],
   "source": [
    "Sequential_hist = Sequential_model.fit(train_images, train_labels, validation_data=(test_images, test_labels), epochs=5, verbose=2)"
   ]
  },
  {
   "cell_type": "code",
   "execution_count": null,
   "metadata": {},
   "outputs": [],
   "source": [
    "plt.plot(Sequential_hist.history['accuracy'], label='accuracy')\n",
    "plt.plot(Sequential_hist.history['loss'], label='loss')\n",
    "plt.plot(Sequential_hist.history['val_accuracy'], label='val_accuracy')\n",
    "plt.plot(Sequential_hist.history['val_loss'], label='val_loss')\n",
    "plt.legend(loc='upper left')\n",
    "plt.show()"
   ]
  },
  {
   "cell_type": "code",
   "execution_count": null,
   "metadata": {},
   "outputs": [],
   "source": [
    "res = Sequential_model.predict( test_images[3:4] ) \n",
    "res.shape"
   ]
  },
  {
   "cell_type": "code",
   "execution_count": null,
   "metadata": {},
   "outputs": [],
   "source": [
    "plt.imshow(test_images[3], cmap=\"gray\")\n",
    "plt.show()"
   ]
  },
  {
   "cell_type": "code",
   "execution_count": null,
   "metadata": {},
   "outputs": [],
   "source": [
    "plt.bar(range(10), res[0], color='red')\n",
    "plt.bar(np.array(range(10)) + 0.35, to_categorical(test_labels[3], 10))\n",
    "plt.show()"
   ]
  },
  {
   "cell_type": "code",
   "execution_count": null,
   "metadata": {},
   "outputs": [],
   "source": [
    "Sequential_model.save(\"models/CNN_based_MNIST_001.h5\")"
   ]
  }
 ],
 "metadata": {
  "interpreter": {
   "hash": "20ea11077b4d33ea95f1fd00e03a9e40cb7cbf4ddc1b9ea71cbe1fbfe5e5187e"
  },
  "kernelspec": {
   "display_name": "Python 3.8.12 ('tf_py38')",
   "language": "python",
   "name": "python3"
  },
  "language_info": {
   "codemirror_mode": {
    "name": "ipython",
    "version": 3
   },
   "file_extension": ".py",
   "mimetype": "text/x-python",
   "name": "python",
   "nbconvert_exporter": "python",
   "pygments_lexer": "ipython3",
   "version": "3.8.12"
  },
  "orig_nbformat": 4
 },
 "nbformat": 4,
 "nbformat_minor": 2
}
