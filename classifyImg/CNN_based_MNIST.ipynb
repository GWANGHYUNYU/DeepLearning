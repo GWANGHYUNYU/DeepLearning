{
 "cells": [
  {
   "cell_type": "code",
   "execution_count": 1,
   "metadata": {},
   "outputs": [],
   "source": [
    "import tensorflow as tf\n",
    "import tensorflow_datasets as tfds\n",
    "\n",
    "from tensorflow.keras.utils import to_categorical\n",
    "from tensorflow.keras import regularizers\n",
    "\n",
    "from tensorflow import keras\n",
    "from keras.layers import SimpleRNN, Dense, Input, Flatten, Conv2D, MaxPooling2D, Dropout, BatchNormalization, GlobalAvgPool2D\n",
    "from keras.models import Sequential, Model\n",
    "\n",
    "import pandas as pd\n",
    "import numpy as np\n",
    "import matplotlib.pyplot as plt\n",
    "import seaborn as sns\n",
    "import warnings \n",
    "from IPython.display import Image\n",
    "\n",
    "warnings.filterwarnings('ignore')\n",
    "%matplotlib inline\n",
    "\n",
    "SEED = 34"
   ]
  },
  {
   "cell_type": "code",
   "execution_count": 2,
   "metadata": {},
   "outputs": [],
   "source": [
    "(train_images, train_labels), (test_images, test_labels) = keras.datasets.mnist.load_data()"
   ]
  },
  {
   "cell_type": "code",
   "execution_count": 3,
   "metadata": {},
   "outputs": [],
   "source": [
    "train_images = train_images[..., np.newaxis]\n",
    "test_images = test_images[..., np.newaxis]"
   ]
  },
  {
   "cell_type": "code",
   "execution_count": 4,
   "metadata": {},
   "outputs": [
    {
     "name": "stdout",
     "output_type": "stream",
     "text": [
      "train_images: (60000, 28, 28, 1)\n",
      "train_labels: (60000,)\n",
      "test__images: (10000, 28, 28, 1)\n",
      "test_labels: (10000,)\n"
     ]
    }
   ],
   "source": [
    "print(f\"train_images: {train_images.shape}\")\n",
    "print(f\"train_labels: {train_labels.shape}\")\n",
    "\n",
    "print(f\"test__images: {test_images.shape}\")\n",
    "print(f\"test_labels: {test_labels.shape}\")"
   ]
  },
  {
   "cell_type": "code",
   "execution_count": 5,
   "metadata": {},
   "outputs": [],
   "source": [
    "def norm(data):\n",
    "  max_value = data.max()\n",
    "  min_value = data.min()\n",
    "\n",
    "  return (data - min_value) / (max_value - min_value)"
   ]
  },
  {
   "cell_type": "code",
   "execution_count": 6,
   "metadata": {},
   "outputs": [],
   "source": [
    "train_images = norm(train_images)\n",
    "test_images = norm(test_images)"
   ]
  },
  {
   "cell_type": "code",
   "execution_count": 7,
   "metadata": {},
   "outputs": [
    {
     "data": {
      "text/plain": [
       "(0, 9)"
      ]
     },
     "execution_count": 7,
     "metadata": {},
     "output_type": "execute_result"
    }
   ],
   "source": [
    "train_labels.min(), train_labels.max()"
   ]
  },
  {
   "cell_type": "code",
   "execution_count": 8,
   "metadata": {},
   "outputs": [],
   "source": [
    "def get_CNN_model(input_shape, rate):\n",
    "\n",
    "    model = Sequential([\n",
    "            Conv2D(filters=64, kernel_size=(3, 3), strides=1, padding='same', activation='relu', input_shape=(28, 28, 1), name='conv_1'),\n",
    "            MaxPooling2D(pool_size=(2, 2), name='pool_1'),\n",
    "            Conv2D(filters=32, kernel_size=(3, 3), strides=1, padding='same', activation='relu', input_shape=input_shape, name='conv_2'),\n",
    "            MaxPooling2D(pool_size=(2, 2), name='pool_2'),\n",
    "            Conv2D(filters=16, kernel_size=(3, 3), strides=1, padding='same', activation='relu', name='conv_3'),\n",
    "            BatchNormalization(),           \n",
    "            Flatten(name='flatten'),\n",
    "            Dense(units=32, activation='relu', name='dense_1'),\n",
    "            Dropout(rate),\n",
    "            Dense(units=10, activation='softmax', name='dense_2')\n",
    "    ])\n",
    "    \n",
    "    return model"
   ]
  },
  {
   "cell_type": "code",
   "execution_count": 9,
   "metadata": {},
   "outputs": [
    {
     "name": "stdout",
     "output_type": "stream",
     "text": [
      "Model: \"sequential\"\n",
      "_________________________________________________________________\n",
      " Layer (type)                Output Shape              Param #   \n",
      "=================================================================\n",
      " conv_1 (Conv2D)             (None, 28, 28, 64)        640       \n",
      "                                                                 \n",
      " pool_1 (MaxPooling2D)       (None, 14, 14, 64)        0         \n",
      "                                                                 \n",
      " conv_2 (Conv2D)             (None, 14, 14, 32)        18464     \n",
      "                                                                 \n",
      " pool_2 (MaxPooling2D)       (None, 7, 7, 32)          0         \n",
      "                                                                 \n",
      " conv_3 (Conv2D)             (None, 7, 7, 16)          4624      \n",
      "                                                                 \n",
      " batch_normalization (BatchN  (None, 7, 7, 16)         64        \n",
      " ormalization)                                                   \n",
      "                                                                 \n",
      " flatten (Flatten)           (None, 784)               0         \n",
      "                                                                 \n",
      " dense_1 (Dense)             (None, 32)                25120     \n",
      "                                                                 \n",
      " dropout (Dropout)           (None, 32)                0         \n",
      "                                                                 \n",
      " dense_2 (Dense)             (None, 10)                330       \n",
      "                                                                 \n",
      "=================================================================\n",
      "Total params: 49,242\n",
      "Trainable params: 49,210\n",
      "Non-trainable params: 32\n",
      "_________________________________________________________________\n"
     ]
    }
   ],
   "source": [
    "Sequential_model = get_CNN_model(train_images[0].shape, 0.5)\n",
    "Sequential_model.summary()"
   ]
  },
  {
   "cell_type": "code",
   "execution_count": 10,
   "metadata": {},
   "outputs": [],
   "source": [
    "Sequential_model.compile(loss='sparse_categorical_crossentropy', optimizer='adam', metrics = [\"accuracy\"])"
   ]
  },
  {
   "cell_type": "code",
   "execution_count": 11,
   "metadata": {},
   "outputs": [
    {
     "name": "stdout",
     "output_type": "stream",
     "text": [
      "Epoch 1/5\n",
      "1875/1875 - 38s - loss: 0.3450 - accuracy: 0.8878 - val_loss: 0.0602 - val_accuracy: 0.9820 - 38s/epoch - 20ms/step\n",
      "Epoch 2/5\n",
      "1875/1875 - 10s - loss: 0.1437 - accuracy: 0.9553 - val_loss: 0.0530 - val_accuracy: 0.9851 - 10s/epoch - 5ms/step\n",
      "Epoch 3/5\n",
      "1875/1875 - 9s - loss: 0.1158 - accuracy: 0.9642 - val_loss: 0.0375 - val_accuracy: 0.9888 - 9s/epoch - 5ms/step\n",
      "Epoch 4/5\n",
      "1875/1875 - 9s - loss: 0.1009 - accuracy: 0.9675 - val_loss: 0.0338 - val_accuracy: 0.9907 - 9s/epoch - 5ms/step\n",
      "Epoch 5/5\n",
      "1875/1875 - 10s - loss: 0.0875 - accuracy: 0.9718 - val_loss: 0.0330 - val_accuracy: 0.9910 - 10s/epoch - 5ms/step\n"
     ]
    }
   ],
   "source": [
    "Sequential_hist = Sequential_model.fit(train_images, train_labels, validation_data=(test_images, test_labels), epochs=5, verbose=2)"
   ]
  },
  {
   "cell_type": "code",
   "execution_count": 12,
   "metadata": {},
   "outputs": [
    {
     "data": {
      "image/png": "[encoded data removed]",
      "text/plain": [
       "<Figure size 432x288 with 1 Axes>"
      ]
     },
     "metadata": {
      "needs_background": "light"
     },
     "output_type": "display_data"
    }
   ],
   "source": [
    "plt.plot(Sequential_hist.history['accuracy'], label='accuracy')\n",
    "plt.plot(Sequential_hist.history['loss'], label='loss')\n",
    "plt.plot(Sequential_hist.history['val_accuracy'], label='val_accuracy')\n",
    "plt.plot(Sequential_hist.history['val_loss'], label='val_loss')\n",
    "plt.legend(loc='upper left')\n",
    "plt.show()"
   ]
  },
  {
   "cell_type": "code",
   "execution_count": 13,
   "metadata": {},
   "outputs": [
    {
     "data": {
      "text/plain": [
       "(1, 10)"
      ]
     },
     "execution_count": 13,
     "metadata": {},
     "output_type": "execute_result"
    }
   ],
   "source": [
    "res = Sequential_model.predict( test_images[3:4] ) \n",
    "res.shape"
   ]
  },
  {
   "cell_type": "code",
   "execution_count": 26,
   "metadata": {},
   "outputs": [
    {
     "data": {
      "image/png": "[encoded data removed]",
      "text/plain": [
       "<Figure size 432x288 with 1 Axes>"
      ]
     },
     "metadata": {
      "needs_background": "light"
     },
     "output_type": "display_data"
    }
   ],
   "source": [
    "plt.imshow(test_images[3], cmap=\"gray\")\n",
    "plt.show()"
   ]
  },
  {
   "cell_type": "code",
   "execution_count": 14,
   "metadata": {},
   "outputs": [
    {
     "data": {
      "image/png": "[encoded data removed]",
      "text/plain": [
       "<Figure size 432x288 with 1 Axes>"
      ]
     },
     "metadata": {
      "needs_background": "light"
     },
     "output_type": "display_data"
    }
   ],
   "source": [
    "plt.bar(range(10), res[0], color='red')\n",
    "plt.bar(np.array(range(10)) + 0.35, to_categorical(test_labels[3], 10))\n",
    "plt.show()"
   ]
  },
  {
   "cell_type": "code",
   "execution_count": 28,
   "metadata": {},
   "outputs": [],
   "source": [
    "Sequential_model.save(\"models/CNN_based_MNIST_001.h5\")"
   ]
  },
  {
   "cell_type": "markdown",
   "metadata": {},
   "source": [
    "## Model 사용"
   ]
  },
  {
   "cell_type": "code",
   "execution_count": 15,
   "metadata": {},
   "outputs": [],
   "source": [
    "def CNN_mnist_model(input_shape, rate):\n",
    "    \n",
    "    inputs = Input(input_shape)\n",
    "    x = Conv2D(filters=64, kernel_size=(3, 3), strides=1, padding='same', activation='relu', input_shape=input_shape, name='conv_1')(inputs)\n",
    "    x = MaxPooling2D(pool_size=(2, 2), name='pool_1')(x)\n",
    "    x = Conv2D(filters=32, kernel_size=(3, 3), strides=1, padding='same', activation='relu', input_shape=input_shape, name='conv_2')(x)\n",
    "    x = MaxPooling2D(pool_size=(2, 2), name='pool_2')(x)\n",
    "    x = Conv2D(filters=16, kernel_size=(3, 3), strides=1, padding='same', activation='relu', name='conv_3')(x)\n",
    "    x = BatchNormalization()(x)\n",
    "    x = Flatten()(x)\n",
    "\n",
    "    x = Dense(units=32, activation='relu', name='dense_1')(x)\n",
    "    x = Dropout(rate)(x)\n",
    "    x = Dense(units=10, activation='softmax', name='dense_2')(x)\n",
    "\n",
    "    return Model(inputs, x)"
   ]
  },
  {
   "cell_type": "code",
   "execution_count": 16,
   "metadata": {},
   "outputs": [
    {
     "name": "stdout",
     "output_type": "stream",
     "text": [
      "Model: \"model\"\n",
      "_________________________________________________________________\n",
      " Layer (type)                Output Shape              Param #   \n",
      "=================================================================\n",
      " input_1 (InputLayer)        [(None, 28, 28, 1)]       0         \n",
      "                                                                 \n",
      " conv_1 (Conv2D)             (None, 28, 28, 64)        640       \n",
      "                                                                 \n",
      " pool_1 (MaxPooling2D)       (None, 14, 14, 64)        0         \n",
      "                                                                 \n",
      " conv_2 (Conv2D)             (None, 14, 14, 32)        18464     \n",
      "                                                                 \n",
      " pool_2 (MaxPooling2D)       (None, 7, 7, 32)          0         \n",
      "                                                                 \n",
      " conv_3 (Conv2D)             (None, 7, 7, 16)          4624      \n",
      "                                                                 \n",
      " batch_normalization_1 (Batc  (None, 7, 7, 16)         64        \n",
      " hNormalization)                                                 \n",
      "                                                                 \n",
      " flatten (Flatten)           (None, 784)               0         \n",
      "                                                                 \n",
      " dense_1 (Dense)             (None, 32)                25120     \n",
      "                                                                 \n",
      " dropout_1 (Dropout)         (None, 32)                0         \n",
      "                                                                 \n",
      " dense_2 (Dense)             (None, 10)                330       \n",
      "                                                                 \n",
      "=================================================================\n",
      "Total params: 49,242\n",
      "Trainable params: 49,210\n",
      "Non-trainable params: 32\n",
      "_________________________________________________________________\n"
     ]
    }
   ],
   "source": [
    "model = CNN_mnist_model(train_images[0].shape, 0.5)\n",
    "model.summary()"
   ]
  },
  {
   "cell_type": "code",
   "execution_count": 17,
   "metadata": {},
   "outputs": [],
   "source": [
    "model.compile(loss='sparse_categorical_crossentropy', optimizer='adam', metrics = [\"accuracy\"])"
   ]
  },
  {
   "cell_type": "code",
   "execution_count": 18,
   "metadata": {},
   "outputs": [
    {
     "name": "stdout",
     "output_type": "stream",
     "text": [
      "Epoch 1/5\n",
      "1875/1875 - 10s - loss: 0.3429 - accuracy: 0.8878 - val_loss: 0.1240 - val_accuracy: 0.9597 - 10s/epoch - 5ms/step\n",
      "Epoch 2/5\n",
      "1875/1875 - 10s - loss: 0.1593 - accuracy: 0.9502 - val_loss: 0.0500 - val_accuracy: 0.9868 - 10s/epoch - 5ms/step\n",
      "Epoch 3/5\n",
      "1875/1875 - 9s - loss: 0.1287 - accuracy: 0.9582 - val_loss: 0.0458 - val_accuracy: 0.9874 - 9s/epoch - 5ms/step\n",
      "Epoch 4/5\n",
      "1875/1875 - 10s - loss: 0.1113 - accuracy: 0.9639 - val_loss: 0.0341 - val_accuracy: 0.9902 - 10s/epoch - 5ms/step\n",
      "Epoch 5/5\n",
      "1875/1875 - 10s - loss: 0.0972 - accuracy: 0.9679 - val_loss: 0.0391 - val_accuracy: 0.9901 - 10s/epoch - 5ms/step\n"
     ]
    }
   ],
   "source": [
    "hist = model.fit(train_images, train_labels, validation_data=(test_images, test_labels), epochs=5, verbose=2)"
   ]
  },
  {
   "cell_type": "code",
   "execution_count": 19,
   "metadata": {},
   "outputs": [
    {
     "data": {
      "image/png": "[encoded data removed]",
      "text/plain": [
       "<Figure size 432x288 with 1 Axes>"
      ]
     },
     "metadata": {
      "needs_background": "light"
     },
     "output_type": "display_data"
    }
   ],
   "source": [
    "plt.plot(hist.history['accuracy'], label='accuracy')\n",
    "plt.plot(hist.history['loss'], label='loss')\n",
    "plt.plot(hist.history['val_accuracy'], label='val_accuracy')\n",
    "plt.plot(hist.history['val_loss'], label='val_loss')\n",
    "plt.legend(loc='upper left')\n",
    "plt.show()"
   ]
  },
  {
   "cell_type": "code",
   "execution_count": 20,
   "metadata": {},
   "outputs": [
    {
     "data": {
      "text/plain": [
       "(1, 10)"
      ]
     },
     "execution_count": 20,
     "metadata": {},
     "output_type": "execute_result"
    }
   ],
   "source": [
    "res = model.predict( test_images[3:4] ) \n",
    "res.shape"
   ]
  },
  {
   "cell_type": "code",
   "execution_count": 21,
   "metadata": {},
   "outputs": [
    {
     "data": {
      "image/png": "[encoded data removed]",
      "text/plain": [
       "<Figure size 432x288 with 1 Axes>"
      ]
     },
     "metadata": {
      "needs_background": "light"
     },
     "output_type": "display_data"
    }
   ],
   "source": [
    "plt.imshow(test_images[3], cmap=\"gray\")\n",
    "plt.show()"
   ]
  },
  {
   "cell_type": "code",
   "execution_count": 22,
   "metadata": {},
   "outputs": [
    {
     "data": {
      "image/png": "[encoded data removed]",
      "text/plain": [
       "<Figure size 432x288 with 1 Axes>"
      ]
     },
     "metadata": {
      "needs_background": "light"
     },
     "output_type": "display_data"
    }
   ],
   "source": [
    "plt.bar(range(10), res[0], color='red')\n",
    "plt.bar(np.array(range(10)) + 0.35, to_categorical(test_labels[3], 10))\n",
    "plt.show()"
   ]
  },
  {
   "cell_type": "code",
   "execution_count": 44,
   "metadata": {},
   "outputs": [],
   "source": [
    "model.save(\"models/CNN_based_MNIST_002.h5\")"
   ]
  }
 ],
 "metadata": {
  "kernelspec": {
   "display_name": "Python 3.8.12 ('tf_py38')",
   "language": "python",
   "name": "python3"
  },
  "language_info": {
   "codemirror_mode": {
    "name": "ipython",
    "version": 3
   },
   "file_extension": ".py",
   "mimetype": "text/x-python",
   "name": "python",
   "nbconvert_exporter": "python",
   "pygments_lexer": "ipython3",
   "version": "3.8.12"
  },
  "orig_nbformat": 4,
  "vscode": {
   "interpreter": {
    "hash": "eba2a1a9e688c13729bc3ce039aebfba3ed6aba2e3ff21806c4b0dd9559fdc94"
   }
  }
 },
 "nbformat": 4,
 "nbformat_minor": 2
}
