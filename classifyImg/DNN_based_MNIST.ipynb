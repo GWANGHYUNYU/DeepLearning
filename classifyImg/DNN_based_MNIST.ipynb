{
 "cells": [
  {
   "cell_type": "code",
   "execution_count": 1,
   "metadata": {},
   "outputs": [],
   "source": [
    "import tensorflow as tf\n",
    "import tensorflow_datasets as tfds\n",
    "\n",
    "from tensorflow.keras.utils import to_categorical\n",
    "from tensorflow.keras import regularizers\n",
    "\n",
    "from tensorflow import keras\n",
    "from keras.layers import SimpleRNN, Dense, Input, Flatten, Conv2D, MaxPool2D, Dropout, BatchNormalization, GlobalAvgPool2D\n",
    "from keras.models import Sequential, Model\n",
    "\n",
    "import pandas as pd\n",
    "import numpy as np\n",
    "import matplotlib.pyplot as plt\n",
    "import seaborn as sns\n",
    "import warnings \n",
    "from IPython.display import Image\n",
    "\n",
    "warnings.filterwarnings('ignore')\n",
    "%matplotlib inline\n",
    "\n",
    "SEED = 34"
   ]
  },
  {
   "cell_type": "code",
   "execution_count": 2,
   "metadata": {},
   "outputs": [],
   "source": [
    "(train_images, train_labels), (test_images, test_labels) = keras.datasets.mnist.load_data()"
   ]
  },
  {
   "cell_type": "code",
   "execution_count": 31,
   "metadata": {},
   "outputs": [
    {
     "name": "stdout",
     "output_type": "stream",
     "text": [
      "train_images: (60000, 28, 28)\n",
      "train_labels: (60000,)\n",
      "test__images: (10000, 28, 28)\n",
      "test_labels: (10000,)\n"
     ]
    }
   ],
   "source": [
    "print(f\"train_images: {train_images.shape}\")\n",
    "print(f\"train_labels: {train_labels.shape}\")\n",
    "\n",
    "print(f\"test__images: {test_images.shape}\")\n",
    "print(f\"test_labels: {test_labels.shape}\")"
   ]
  },
  {
   "cell_type": "code",
   "execution_count": 4,
   "metadata": {},
   "outputs": [],
   "source": [
    "def norm(data):\n",
    "  max_value = data.max()\n",
    "  min_value = data.min()\n",
    "\n",
    "  return (data - min_value) / (max_value - min_value)"
   ]
  },
  {
   "cell_type": "code",
   "execution_count": 5,
   "metadata": {},
   "outputs": [],
   "source": [
    "train_images = norm(train_images)\n",
    "test_images = norm(test_images)"
   ]
  },
  {
   "cell_type": "code",
   "execution_count": 34,
   "metadata": {},
   "outputs": [
    {
     "data": {
      "text/plain": [
       "(0, 9)"
      ]
     },
     "execution_count": 34,
     "metadata": {},
     "output_type": "execute_result"
    }
   ],
   "source": [
    "train_labels.min(), train_labels.max()"
   ]
  },
  {
   "cell_type": "markdown",
   "metadata": {},
   "source": [
    "## Sequential 사용"
   ]
  },
  {
   "cell_type": "code",
   "execution_count": 82,
   "metadata": {},
   "outputs": [],
   "source": [
    "def get_regularised_model(input_shape, dropout_rate, weight_decay):\n",
    "\n",
    "    model = Sequential([\n",
    "            Flatten(input_shape=input_shape),\n",
    "            Dense(256, kernel_initializer=tf.keras.initializers.HeNormal(), \n",
    "                  bias_initializer=tf.keras.initializers.Constant(value=1),\n",
    "                  kernel_regularizer=regularizers.l2(weight_decay),\n",
    "                  activation=\"relu\"),\n",
    "            Dropout(dropout_rate),\n",
    "            Dense(128, kernel_regularizer=regularizers.l2(weight_decay), activation=\"relu\"),\n",
    "            Dense(128, kernel_regularizer=regularizers.l2(weight_decay), activation=\"relu\"),\n",
    "            BatchNormalization(),\n",
    "            Dense(64, kernel_regularizer=regularizers.l2(weight_decay), activation=\"relu\"),\n",
    "            Dense(64, kernel_regularizer=regularizers.l2(weight_decay), activation=\"relu\"),\n",
    "            Dropout(dropout_rate),\n",
    "            Dense(32, kernel_regularizer=regularizers.l2(weight_decay), activation=\"relu\"),\n",
    "            Dense(32, kernel_regularizer=regularizers.l2(weight_decay), activation=\"relu\"),\n",
    "            Dropout(dropout_rate),\n",
    "            Dense(10, activation=\"softmax\")\n",
    "    ])\n",
    "    \n",
    "    return model"
   ]
  },
  {
   "cell_type": "code",
   "execution_count": 83,
   "metadata": {},
   "outputs": [
    {
     "name": "stdout",
     "output_type": "stream",
     "text": [
      "Model: \"sequential_3\"\n",
      "_________________________________________________________________\n",
      " Layer (type)                Output Shape              Param #   \n",
      "=================================================================\n",
      " flatten_7 (Flatten)         (None, 784)               0         \n",
      "                                                                 \n",
      " dense_62 (Dense)            (None, 256)               200960    \n",
      "                                                                 \n",
      " dropout_18 (Dropout)        (None, 256)               0         \n",
      "                                                                 \n",
      " dense_63 (Dense)            (None, 128)               32896     \n",
      "                                                                 \n",
      " dense_64 (Dense)            (None, 128)               16512     \n",
      "                                                                 \n",
      " batch_normalization_7 (Batc  (None, 128)              512       \n",
      " hNormalization)                                                 \n",
      "                                                                 \n",
      " dense_65 (Dense)            (None, 64)                8256      \n",
      "                                                                 \n",
      " dense_66 (Dense)            (None, 64)                4160      \n",
      "                                                                 \n",
      " dropout_19 (Dropout)        (None, 64)                0         \n",
      "                                                                 \n",
      " dense_67 (Dense)            (None, 32)                2080      \n",
      "                                                                 \n",
      " dense_68 (Dense)            (None, 32)                1056      \n",
      "                                                                 \n",
      " dropout_20 (Dropout)        (None, 32)                0         \n",
      "                                                                 \n",
      " dense_69 (Dense)            (None, 10)                330       \n",
      "                                                                 \n",
      "=================================================================\n",
      "Total params: 266,762\n",
      "Trainable params: 266,506\n",
      "Non-trainable params: 256\n",
      "_________________________________________________________________\n"
     ]
    }
   ],
   "source": [
    "Sequential_model = get_regularised_model(train_images[0].shape, 0.3, 0.001)\n",
    "Sequential_model.summary()"
   ]
  },
  {
   "cell_type": "code",
   "execution_count": 85,
   "metadata": {},
   "outputs": [],
   "source": [
    "Sequential_model.compile(loss='sparse_categorical_crossentropy', optimizer='adam', metrics = [\"accuracy\"])"
   ]
  },
  {
   "cell_type": "code",
   "execution_count": 87,
   "metadata": {},
   "outputs": [
    {
     "name": "stdout",
     "output_type": "stream",
     "text": [
      "Epoch 1/5\n",
      "1875/1875 - 12s - loss: 0.4868 - accuracy: 0.9421 - val_loss: 0.4041 - val_accuracy: 0.9555 - 12s/epoch - 6ms/step\n",
      "Epoch 2/5\n",
      "1875/1875 - 11s - loss: 0.4824 - accuracy: 0.9416 - val_loss: 0.3957 - val_accuracy: 0.9544 - 11s/epoch - 6ms/step\n",
      "Epoch 3/5\n",
      "1875/1875 - 12s - loss: 0.4655 - accuracy: 0.9430 - val_loss: 0.3709 - val_accuracy: 0.9612 - 12s/epoch - 6ms/step\n",
      "Epoch 4/5\n",
      "1875/1875 - 11s - loss: 0.4647 - accuracy: 0.9419 - val_loss: 0.3561 - val_accuracy: 0.9627 - 11s/epoch - 6ms/step\n",
      "Epoch 5/5\n",
      "1875/1875 - 12s - loss: 0.4548 - accuracy: 0.9425 - val_loss: 0.3635 - val_accuracy: 0.9624 - 12s/epoch - 7ms/step\n"
     ]
    }
   ],
   "source": [
    "Sequential_hist = Sequential_model.fit(train_images, train_labels, validation_data=(test_images, test_labels), epochs=5, verbose=2)"
   ]
  },
  {
   "cell_type": "code",
   "execution_count": 88,
   "metadata": {},
   "outputs": [
    {
     "data": {
      "image/png": "[encoded data removed]",
      "text/plain": [
       "<Figure size 432x288 with 1 Axes>"
      ]
     },
     "metadata": {
      "needs_background": "light"
     },
     "output_type": "display_data"
    }
   ],
   "source": [
    "plt.plot(Sequential_hist.history['accuracy'], label='accuracy')\n",
    "plt.plot(Sequential_hist.history['loss'], label='loss')\n",
    "plt.plot(Sequential_hist.history['val_accuracy'], label='val_accuracy')\n",
    "plt.plot(Sequential_hist.history['val_loss'], label='val_loss')\n",
    "plt.legend(loc='upper left')\n",
    "plt.show()"
   ]
  },
  {
   "cell_type": "code",
   "execution_count": 89,
   "metadata": {},
   "outputs": [
    {
     "data": {
      "text/plain": [
       "(1, 10)"
      ]
     },
     "execution_count": 89,
     "metadata": {},
     "output_type": "execute_result"
    }
   ],
   "source": [
    "res = Sequential_model.predict( test_images[3:4] ) \n",
    "res.shape"
   ]
  },
  {
   "cell_type": "code",
   "execution_count": 90,
   "metadata": {},
   "outputs": [
    {
     "data": {
      "image/png": "[encoded data removed]",
      "text/plain": [
       "<Figure size 432x288 with 1 Axes>"
      ]
     },
     "metadata": {
      "needs_background": "light"
     },
     "output_type": "display_data"
    }
   ],
   "source": [
    "plt.imshow(test_images[3], cmap=\"gray\")\n",
    "plt.show()"
   ]
  },
  {
   "cell_type": "code",
   "execution_count": 91,
   "metadata": {},
   "outputs": [
    {
     "data": {
      "image/png": "[encoded data removed]",
      "text/plain": [
       "<Figure size 432x288 with 1 Axes>"
      ]
     },
     "metadata": {
      "needs_background": "light"
     },
     "output_type": "display_data"
    }
   ],
   "source": [
    "plt.bar(range(10), res[0], color='red')\n",
    "plt.bar(np.array(range(10)) + 0.35, to_categorical(test_labels[3], 10))\n",
    "plt.show()"
   ]
  },
  {
   "cell_type": "code",
   "execution_count": 92,
   "metadata": {},
   "outputs": [],
   "source": [
    "Sequential_model.save(\"models/DNN_based_MNIST_001.h5\")"
   ]
  },
  {
   "cell_type": "markdown",
   "metadata": {},
   "source": [
    "## Model 사용"
   ]
  },
  {
   "cell_type": "code",
   "execution_count": 93,
   "metadata": {},
   "outputs": [],
   "source": [
    "def DNN_mnist_model(input_shape, dropout_rate, weight_decay):\n",
    "    \n",
    "    inputs = Input(input_shape)\n",
    "    processed = Flatten()(inputs)\n",
    "    x = Dense(256, kernel_initializer=tf.keras.initializers.HeNormal(), \n",
    "                  bias_initializer=tf.keras.initializers.Constant(value=1),\n",
    "                  kernel_regularizer=regularizers.l2(weight_decay),\n",
    "                  activation=\"relu\")(processed)\n",
    "    x = Dropout(dropout_rate)(x)\n",
    "    x = Dense(128, kernel_regularizer=regularizers.l2(weight_decay), activation=\"relu\")(x)\n",
    "    x = Dense(128, kernel_regularizer=regularizers.l2(weight_decay), activation=\"relu\")(x)\n",
    "    x = Dropout(dropout_rate)(x)\n",
    "\n",
    "    x = Dense(64, kernel_regularizer=regularizers.l2(weight_decay), activation=\"relu\")(x)\n",
    "    x = Dense(64, kernel_regularizer=regularizers.l2(weight_decay), activation=\"relu\")(x)\n",
    "    x = BatchNormalization()(x)\n",
    "\n",
    "    x = Dense(32, kernel_regularizer=regularizers.l2(weight_decay), activation=\"relu\")(x)\n",
    "    x = Dense(32, kernel_regularizer=regularizers.l2(weight_decay), activation=\"relu\")(x)\n",
    "    x = Dropout(dropout_rate)(x)\n",
    "\n",
    "    x = Dense(10, activation=\"softmax\")(x)\n",
    "\n",
    "    return Model(inputs, x)"
   ]
  },
  {
   "cell_type": "code",
   "execution_count": 94,
   "metadata": {},
   "outputs": [
    {
     "data": {
      "text/plain": [
       "(28, 28)"
      ]
     },
     "execution_count": 94,
     "metadata": {},
     "output_type": "execute_result"
    }
   ],
   "source": [
    "train_images[0].shape"
   ]
  },
  {
   "cell_type": "code",
   "execution_count": 96,
   "metadata": {},
   "outputs": [
    {
     "name": "stdout",
     "output_type": "stream",
     "text": [
      "Model: \"model_5\"\n",
      "_________________________________________________________________\n",
      " Layer (type)                Output Shape              Param #   \n",
      "=================================================================\n",
      " input_10 (InputLayer)       [(None, 28, 28)]          0         \n",
      "                                                                 \n",
      " flatten_9 (Flatten)         (None, 784)               0         \n",
      "                                                                 \n",
      " dense_78 (Dense)            (None, 256)               200960    \n",
      "                                                                 \n",
      " dropout_24 (Dropout)        (None, 256)               0         \n",
      "                                                                 \n",
      " dense_79 (Dense)            (None, 128)               32896     \n",
      "                                                                 \n",
      " dense_80 (Dense)            (None, 128)               16512     \n",
      "                                                                 \n",
      " dropout_25 (Dropout)        (None, 128)               0         \n",
      "                                                                 \n",
      " dense_81 (Dense)            (None, 64)                8256      \n",
      "                                                                 \n",
      " dense_82 (Dense)            (None, 64)                4160      \n",
      "                                                                 \n",
      " batch_normalization_9 (Batc  (None, 64)               256       \n",
      " hNormalization)                                                 \n",
      "                                                                 \n",
      " dense_83 (Dense)            (None, 32)                2080      \n",
      "                                                                 \n",
      " dense_84 (Dense)            (None, 32)                1056      \n",
      "                                                                 \n",
      " dropout_26 (Dropout)        (None, 32)                0         \n",
      "                                                                 \n",
      " dense_85 (Dense)            (None, 10)                330       \n",
      "                                                                 \n",
      "=================================================================\n",
      "Total params: 266,506\n",
      "Trainable params: 266,378\n",
      "Non-trainable params: 128\n",
      "_________________________________________________________________\n"
     ]
    }
   ],
   "source": [
    "model = DNN_mnist_model(train_images[0].shape, 0.3, 0.001)\n",
    "model.summary()"
   ]
  },
  {
   "cell_type": "code",
   "execution_count": 113,
   "metadata": {},
   "outputs": [
    {
     "name": "stdout",
     "output_type": "stream",
     "text": [
      "You must install pydot (`pip install pydot`) and install graphviz (see instructions at https://graphviz.gitlab.io/download/) for plot_model/model_to_dot to work.\n"
     ]
    }
   ],
   "source": [
    "keras.utils.plot_model(model, \"my_first_model.png\")"
   ]
  },
  {
   "cell_type": "code",
   "execution_count": 112,
   "metadata": {},
   "outputs": [
    {
     "name": "stdout",
     "output_type": "stream",
     "text": [
      "You must install pydot (`pip install pydot`) and install graphviz (see instructions at https://graphviz.gitlab.io/download/) for plot_model/model_to_dot to work.\n"
     ]
    }
   ],
   "source": [
    "keras.utils.plot_model(model, \"my_first_model_with_shape_info.png\", show_shapes=True)"
   ]
  },
  {
   "cell_type": "code",
   "execution_count": 98,
   "metadata": {},
   "outputs": [],
   "source": [
    "model.compile(loss='sparse_categorical_crossentropy', optimizer='adam', metrics = [\"accuracy\"])"
   ]
  },
  {
   "cell_type": "code",
   "execution_count": 99,
   "metadata": {},
   "outputs": [
    {
     "name": "stdout",
     "output_type": "stream",
     "text": [
      "Epoch 1/5\n",
      "1875/1875 - 13s - loss: 1.2057 - accuracy: 0.7967 - val_loss: 0.6471 - val_accuracy: 0.9282 - 13s/epoch - 7ms/step\n",
      "Epoch 2/5\n",
      "1875/1875 - 13s - loss: 0.6509 - accuracy: 0.9222 - val_loss: 0.4830 - val_accuracy: 0.9498 - 13s/epoch - 7ms/step\n",
      "Epoch 3/5\n",
      "1875/1875 - 12s - loss: 0.5548 - accuracy: 0.9324 - val_loss: 0.4254 - val_accuracy: 0.9550 - 12s/epoch - 7ms/step\n",
      "Epoch 4/5\n",
      "1875/1875 - 12s - loss: 0.5056 - accuracy: 0.9374 - val_loss: 0.4032 - val_accuracy: 0.9563 - 12s/epoch - 7ms/step\n",
      "Epoch 5/5\n",
      "1875/1875 - 16s - loss: 0.4797 - accuracy: 0.9412 - val_loss: 0.4283 - val_accuracy: 0.9452 - 16s/epoch - 8ms/step\n"
     ]
    }
   ],
   "source": [
    "hist = model.fit(train_images, train_labels, validation_data=(test_images, test_labels), epochs=5, verbose=2)"
   ]
  },
  {
   "cell_type": "code",
   "execution_count": 100,
   "metadata": {},
   "outputs": [
    {
     "data": {
      "image/png": "[encoded data removed]",
      "text/plain": [
       "<Figure size 432x288 with 1 Axes>"
      ]
     },
     "metadata": {
      "needs_background": "light"
     },
     "output_type": "display_data"
    }
   ],
   "source": [
    "plt.plot(hist.history['accuracy'], label='accuracy')\n",
    "plt.plot(hist.history['loss'], label='loss')\n",
    "plt.plot(hist.history['val_accuracy'], label='val_accuracy')\n",
    "plt.plot(hist.history['val_loss'], label='val_loss')\n",
    "plt.legend(loc='upper left')\n",
    "plt.show()"
   ]
  },
  {
   "cell_type": "code",
   "execution_count": 101,
   "metadata": {},
   "outputs": [
    {
     "data": {
      "text/plain": [
       "(1, 10)"
      ]
     },
     "execution_count": 101,
     "metadata": {},
     "output_type": "execute_result"
    }
   ],
   "source": [
    "res = model.predict( test_images[3:4] ) \n",
    "res.shape"
   ]
  },
  {
   "cell_type": "code",
   "execution_count": 102,
   "metadata": {},
   "outputs": [
    {
     "data": {
      "image/png": "[encoded data removed]",
      "text/plain": [
       "<Figure size 432x288 with 1 Axes>"
      ]
     },
     "metadata": {
      "needs_background": "light"
     },
     "output_type": "display_data"
    }
   ],
   "source": [
    "plt.imshow(test_images[3], cmap=\"gray\")\n",
    "plt.show()"
   ]
  },
  {
   "cell_type": "code",
   "execution_count": 103,
   "metadata": {},
   "outputs": [
    {
     "name": "stdout",
     "output_type": "stream",
     "text": [
      "[9.9651515e-01 5.0604143e-07 1.1704799e-03 2.4344369e-04 3.4926834e-05\n",
      " 1.0957987e-03 4.9609307e-04 6.9440292e-05 4.9568847e-05 3.2466298e-04]\n",
      "0\n",
      "0.99651515\n",
      "0\n",
      "[1. 0. 0. 0. 0. 0. 0. 0. 0. 0.]\n"
     ]
    }
   ],
   "source": [
    "print(res[0])\n",
    "print(res[0].argmax())\n",
    "print(res[0].max())\n",
    "\n",
    "print(test_labels[3])\n",
    "show = to_categorical( test_labels[3], 10)\n",
    "print(show)"
   ]
  },
  {
   "cell_type": "code",
   "execution_count": 104,
   "metadata": {},
   "outputs": [
    {
     "data": {
      "image/png": "[encoded data removed]",
      "text/plain": [
       "<Figure size 432x288 with 1 Axes>"
      ]
     },
     "metadata": {
      "needs_background": "light"
     },
     "output_type": "display_data"
    }
   ],
   "source": [
    "plt.bar(range(10), res[0], color='red')\n",
    "plt.bar(np.array(range(10)) + 0.35, to_categorical(test_labels[3], 10))\n",
    "plt.show()"
   ]
  },
  {
   "cell_type": "code",
   "execution_count": 105,
   "metadata": {},
   "outputs": [],
   "source": [
    "model.save(\"models/DNN_based_MNIST_002.h5\")"
   ]
  }
 ],
 "metadata": {
  "interpreter": {
   "hash": "20ea11077b4d33ea95f1fd00e03a9e40cb7cbf4ddc1b9ea71cbe1fbfe5e5187e"
  },
  "kernelspec": {
   "display_name": "Python 3.8.12 ('tf_py38')",
   "language": "python",
   "name": "python3"
  },
  "language_info": {
   "codemirror_mode": {
    "name": "ipython",
    "version": 3
   },
   "file_extension": ".py",
   "mimetype": "text/x-python",
   "name": "python",
   "nbconvert_exporter": "python",
   "pygments_lexer": "ipython3",
   "version": "3.8.12"
  },
  "orig_nbformat": 4
 },
 "nbformat": 4,
 "nbformat_minor": 2
}
